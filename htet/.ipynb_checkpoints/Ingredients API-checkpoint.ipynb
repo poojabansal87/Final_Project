{
 "cells": [
  {
   "cell_type": "code",
   "execution_count": 1,
   "metadata": {},
   "outputs": [],
   "source": [
    "import os\n",
    "import pandas as pd\n",
    "import requests\n",
    "from flask import Flask, request, jsonify\n"
   ]
  },
  {
   "cell_type": "code",
   "execution_count": 2,
   "metadata": {},
   "outputs": [],
   "source": [
    "base_url = \"http://www.recipepuppy.com/api/?\""
   ]
  },
  {
   "cell_type": "code",
   "execution_count": 11,
   "metadata": {},
   "outputs": [],
   "source": [
    "labels = open(\"meta/meta/labels.txt\", \"r\")"
   ]
  },
  {
   "cell_type": "code",
   "execution_count": 3,
   "metadata": {},
   "outputs": [],
   "source": [
    "response = requests.get(base_url)"
   ]
  },
  {
   "cell_type": "code",
   "execution_count": 7,
   "metadata": {},
   "outputs": [
    {
     "data": {
      "text/plain": [
       "{'title': 'Recipe Puppy',\n",
       " 'version': 0.1,\n",
       " 'href': 'http://www.recipepuppy.com/',\n",
       " 'results': [{'title': 'Ginger Champagne',\n",
       "   'href': 'http://allrecipes.com/Recipe/Ginger-Champagne/Detail.aspx',\n",
       "   'ingredients': 'champagne, ginger, ice, vodka',\n",
       "   'thumbnail': 'http://img.recipepuppy.com/1.jpg'},\n",
       "  {'title': 'Potato and Cheese Frittata',\n",
       "   'href': 'http://allrecipes.com/Recipe/Potato-and-Cheese-Frittata/Detail.aspx',\n",
       "   'ingredients': 'cheddar cheese, eggs, olive oil, onions, potato, salt',\n",
       "   'thumbnail': 'http://img.recipepuppy.com/2.jpg'},\n",
       "  {'title': 'Eggnog Thumbprints',\n",
       "   'href': 'http://allrecipes.com/Recipe/Eggnog-Thumbprints/Detail.aspx',\n",
       "   'ingredients': 'brown sugar, butter, butter, powdered sugar, eggs, flour, nutmeg, rum, salt, vanilla extract, sugar',\n",
       "   'thumbnail': 'http://img.recipepuppy.com/3.jpg'},\n",
       "  {'title': 'Succulent Pork Roast',\n",
       "   'href': 'http://allrecipes.com/Recipe/Succulent-Pork-Roast/Detail.aspx',\n",
       "   'ingredients': 'brown sugar, garlic, pork chops, water',\n",
       "   'thumbnail': 'http://img.recipepuppy.com/4.jpg'},\n",
       "  {'title': 'Irish Champ',\n",
       "   'href': 'http://allrecipes.com/Recipe/Irish-Champ/Detail.aspx',\n",
       "   'ingredients': 'black pepper, butter, green onion, milk, potato, salt',\n",
       "   'thumbnail': 'http://img.recipepuppy.com/5.jpg'},\n",
       "  {'title': 'Chocolate-Cherry Thumbprints',\n",
       "   'href': 'http://allrecipes.com/Recipe/Chocolate-Cherry-Thumbprints/Detail.aspx',\n",
       "   'ingredients': 'cocoa powder, baking powder, butter, eggs, flour, oats, salt, sugar, vanilla extract',\n",
       "   'thumbnail': 'http://img.recipepuppy.com/6.jpg'},\n",
       "  {'title': 'Mean Woman Pasta',\n",
       "   'href': 'http://allrecipes.com/Recipe/Mean-Woman-Pasta/Detail.aspx',\n",
       "   'ingredients': 'garlic, kalamata olive, olive oil, pepperoncini, seashell pasta, tomato',\n",
       "   'thumbnail': 'http://img.recipepuppy.com/7.jpg'},\n",
       "  {'title': 'Hot Spiced Cider',\n",
       "   'href': 'http://allrecipes.com/Recipe/Hot-Spiced-Cider/Detail.aspx',\n",
       "   'ingredients': 'allspice, apple cider, brown sugar, cinnamon, cloves, nutmeg, orange, salt',\n",
       "   'thumbnail': 'http://img.recipepuppy.com/8.jpg'},\n",
       "  {'title': \"Isa's Cola de Mono\",\n",
       "   'href': 'http://allrecipes.com/Recipe/Isas-Cola-de-Mono/Detail.aspx',\n",
       "   'ingredients': 'cinnamon, cloves, instant coffee, milk, rum, vanilla extract, water, sugar',\n",
       "   'thumbnail': 'http://img.recipepuppy.com/9.jpg'},\n",
       "  {'title': \"Amy's Barbecue Chicken Salad\",\n",
       "   'href': 'http://allrecipes.com/Recipe/Amys-Barbecue-Chicken-Salad/Detail.aspx',\n",
       "   'ingredients': 'barbecue sauce, chicken, cilantro, lettuce, ranch dressing, lettuce, tomato',\n",
       "   'thumbnail': 'http://img.recipepuppy.com/10.jpg'}]}"
      ]
     },
     "execution_count": 7,
     "metadata": {},
     "output_type": "execute_result"
    }
   ],
   "source": []
  },
  {
   "cell_type": "code",
   "execution_count": null,
   "metadata": {},
   "outputs": [],
   "source": []
  }
 ],
 "metadata": {
  "kernelspec": {
   "display_name": "Python 3",
   "language": "python",
   "name": "python3"
  },
  "language_info": {
   "codemirror_mode": {
    "name": "ipython",
    "version": 3
   },
   "file_extension": ".py",
   "mimetype": "text/x-python",
   "name": "python",
   "nbconvert_exporter": "python",
   "pygments_lexer": "ipython3",
   "version": "3.6.5"
  }
 },
 "nbformat": 4,
 "nbformat_minor": 2
}
